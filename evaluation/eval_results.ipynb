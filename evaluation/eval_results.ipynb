{
 "cells": [
  {
   "cell_type": "code",
   "execution_count": 5,
   "metadata": {},
   "outputs": [],
   "source": [
    "import pandas as pd\n",
    "import json"
   ]
  },
  {
   "cell_type": "code",
   "execution_count": 27,
   "metadata": {},
   "outputs": [],
   "source": [
    "def calc_score_multi_gen(path):\n",
    "    with open(path) as f:\n",
    "        file = json.load(f)\n",
    "    df = pd.DataFrame(file[\"samples\"])\n",
    "\n",
    "    # map strings in behavior to unique ids\n",
    "    behaviors = df[\"behavior\"].unique()\t\n",
    "    behavior_map = {behavior: i for i, behavior in enumerate(behaviors)}\n",
    "    df[\"id\"] = df[\"behavior\"].map(behavior_map)\n",
    "    df_grouped = df.groupby(\"id\").max().reset_index()\n",
    "    not_successful = df_grouped[df_grouped.score == 0][\"id\"].values\n",
    "    not_successful_str = \"[\"\n",
    "    for i in not_successful:\n",
    "        not_successful_str += str(i) + \", \"\n",
    "    not_successful_str = not_successful_str[:-2] + \"]\"\n",
    "\n",
    "    score = df_grouped.score.sum() / len(df_grouped)\n",
    "    return score"
   ]
  }
 ],
 "metadata": {
  "kernelspec": {
   "display_name": "base",
   "language": "python",
   "name": "python3"
  },
  "language_info": {
   "codemirror_mode": {
    "name": "ipython",
    "version": 3
   },
   "file_extension": ".py",
   "mimetype": "text/x-python",
   "name": "python",
   "nbconvert_exporter": "python",
   "pygments_lexer": "ipython3",
   "version": "3.11.5"
  }
 },
 "nbformat": 4,
 "nbformat_minor": 2
}
