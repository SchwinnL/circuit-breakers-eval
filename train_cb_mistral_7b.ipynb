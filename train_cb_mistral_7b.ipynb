{
 "cells": [
  {
   "cell_type": "code",
   "execution_count": null,
   "metadata": {},
   "outputs": [
    {
     "name": "stdout",
     "output_type": "stream",
     "text": [
      "model_name_or_path=mistralai/Mistral-7B-Instruct-v0.2\n",
      "user_tag=[INST]\n",
      "assistant_tag=[/INST]\n",
      "output_dir=./out/Mistral-7b_CB_1\n",
      "/data/long_phan/anaconda3/lib/python3.10/site-packages/torchvision/io/image.py:13: UserWarning: Failed to load image Python extension: '/data/long_phan/anaconda3/lib/python3.10/site-packages/torchvision/image.so: undefined symbol: _ZN3c1017RegisterOperatorsD1Ev'If you don't plan on using image functionality from `torchvision.io`, you can ignore this warning. Otherwise, there might be something wrong with your environment. Did you have `libjpeg` or `libpng` installed before building `torchvision` from source?\n",
      "  warn(\n",
      "[2024-06-19 20:32:00,720] [INFO] [real_accelerator.py:203:get_accelerator] Setting ds_accelerator to cuda (auto detect)\n",
      "\u001b[93m [WARNING] \u001b[0m async_io requires the dev libaio .so object and headers but these were not found.\n",
      "\u001b[93m [WARNING] \u001b[0m If libaio is already installed (perhaps from source), try setting the CFLAGS and LDFLAGS environment variables to where it can be found.\n",
      "\u001b[93m [WARNING] \u001b[0m Please specify the CUTLASS repo directory as environment variable $CUTLASS_PATH\n",
      "\u001b[93m [WARNING] \u001b[0m sparse_attn requires a torch version >= 1.5 and < 2.0 but detected 2.3\n",
      "\u001b[93m [WARNING] \u001b[0m using untested triton version (2.3.1), only 1.0.0 is known to be compatible\n",
      "[2024-06-19 20:32:04,335] [INFO] [real_accelerator.py:203:get_accelerator] Setting ds_accelerator to cuda (auto detect)\n",
      "\u001b[93m [WARNING] \u001b[0m async_io requires the dev libaio .so object and headers but these were not found.\n",
      "\u001b[93m [WARNING] \u001b[0m If libaio is already installed (perhaps from source), try setting the CFLAGS and LDFLAGS environment variables to where it can be found.\n",
      "\u001b[93m [WARNING] \u001b[0m Please specify the CUTLASS repo directory as environment variable $CUTLASS_PATH\n",
      "\u001b[93m [WARNING] \u001b[0m sparse_attn requires a torch version >= 1.5 and < 2.0 but detected 2.3\n",
      "\u001b[93m [WARNING] \u001b[0m using untested triton version (2.3.1), only 1.0.0 is known to be compatible\n",
      "^C\n",
      "W0619 20:32:07.273000 140683284027200 torch/distributed/elastic/agent/server/api.py:741] Received Signals.SIGINT death signal, shutting down workers\n",
      "W0619 20:32:07.273000 140683284027200 torch/distributed/elastic/multiprocessing/api.py:851] Sending process 162251 closing signal SIGINT\n",
      "Traceback (most recent call last):\n",
      "  File \"/data/long_phan/short-circuiting/short-circuiting/public_sc/src/lorra_circuit_breaker.py\", line 14, in <module>\n",
      "    from transformers import Trainer, deepspeed, AutoTokenizer, AutoModelForCausalLM, AutoConfig\n",
      "  File \"<frozen importlib._bootstrap>\", line 1075, in _handle_fromlist\n",
      "  File \"/data/long_phan/anaconda3/lib/python3.10/site-packages/transformers/utils/import_utils.py\", line 1525, in __getattr__\n",
      "    module = self._get_module(self._class_to_module[name])\n",
      "  File \"/data/long_phan/anaconda3/lib/python3.10/site-packages/transformers/utils/import_utils.py\", line 1535, in _get_module\n",
      "    return importlib.import_module(\".\" + module_name, self.__name__)\n",
      "  File \"/data/long_phan/anaconda3/lib/python3.10/importlib/__init__.py\", line 126, in import_module\n",
      "    return _bootstrap._gcd_import(name[level:], package, level)\n",
      "  File \"/data/long_phan/anaconda3/lib/python3.10/site-packages/transformers/trainer.py\", line 59, in <module>\n",
      "    from .data.data_collator import DataCollator, DataCollatorWithPadding, default_data_collator\n",
      "  File \"/data/long_phan/anaconda3/lib/python3.10/site-packages/transformers/data/__init__.py\", line 27, in <module>\n",
      "    from .processors import (\n",
      "  File \"/data/long_phan/anaconda3/lib/python3.10/site-packages/transformers/data/processors/__init__.py\", line 15, in <module>\n",
      "    from .glue import glue_convert_examples_to_features, glue_output_modes, glue_processors, glue_tasks_num_labels\n",
      "  File \"/data/long_phan/anaconda3/lib/python3.10/site-packages/transformers/data/processors/glue.py\", line 30, in <module>\n",
      "    import tensorflow as tf\n",
      "  File \"/data/long_phan/anaconda3/lib/python3.10/site-packages/tensorflow/__init__.py\", line 38, in <module>\n",
      "    from tensorflow.python.tools import module_util as _module_util\n",
      "  File \"/data/long_phan/anaconda3/lib/python3.10/site-packages/tensorflow/python/__init__.py\", line 37, in <module>\n",
      "    from tensorflow.python.eager import context\n",
      "  File \"/data/long_phan/anaconda3/lib/python3.10/site-packages/tensorflow/python/eager/context.py\", line 36, in <module>\n",
      "    from tensorflow.python.eager import execute\n",
      "  File \"/data/long_phan/anaconda3/lib/python3.10/site-packages/tensorflow/python/eager/execute.py\", line 20, in <module>\n",
      "    from tensorflow.python.eager import core\n",
      "  File \"/data/long_phan/anaconda3/lib/python3.10/site-packages/tensorflow/python/eager/core.py\", line 18, in <module>\n",
      "    from tensorflow.python.framework import errors\n",
      "  File \"/data/long_phan/anaconda3/lib/python3.10/site-packages/tensorflow/python/framework/errors.py\", line 18, in <module>\n",
      "    from tensorflow.python.framework import errors_impl as _impl\n",
      "  File \"/data/long_phan/anaconda3/lib/python3.10/site-packages/tensorflow/python/framework/errors_impl.py\", line 23, in <module>\n",
      "    from tensorflow.python.framework import c_api_util\n",
      "  File \"/data/long_phan/anaconda3/lib/python3.10/site-packages/tensorflow/python/framework/c_api_util.py\", line 192, in <module>\n",
      "    def tf_buffer(data=None):\n",
      "  File \"/data/long_phan/anaconda3/lib/python3.10/site-packages/tensorflow/python/util/tf_contextlib.py\", line 32, in contextmanager\n",
      "    return tf_decorator.make_decorator(target, context_manager, 'contextmanager')\n",
      "  File \"/data/long_phan/anaconda3/lib/python3.10/site-packages/tensorflow/python/util/tf_decorator.py\", line 136, in make_decorator\n",
      "    decorator = TFDecorator(decorator_name, target, decorator_doc,\n",
      "  File \"/data/long_phan/anaconda3/lib/python3.10/site-packages/tensorflow/python/util/tf_decorator.py\", line 332, in __init__\n",
      "    self.__signature__ = inspect.signature(target)\n",
      "  File \"/data/long_phan/anaconda3/lib/python3.10/inspect.py\", line 3253, in signature\n",
      "    return Signature.from_callable(obj, follow_wrapped=follow_wrapped,\n",
      "  File \"/data/long_phan/anaconda3/lib/python3.10/inspect.py\", line 3001, in from_callable\n",
      "    return _signature_from_callable(obj, sigcls=cls,\n",
      "  File \"/data/long_phan/anaconda3/lib/python3.10/inspect.py\", line 2462, in _signature_from_callable\n",
      "    return _signature_from_function(sigcls, obj,\n",
      "  File \"/data/long_phan/anaconda3/lib/python3.10/inspect.py\", line 2306, in _signature_from_function\n",
      "    annotations = get_annotations(func, globals=globals, locals=locals, eval_str=eval_str)\n",
      "  File \"/data/long_phan/anaconda3/lib/python3.10/inspect.py\", line 66, in get_annotations\n",
      "    def get_annotations(obj, *, globals=None, locals=None, eval_str=False):\n",
      "KeyboardInterrupt\n"
     ]
    }
   ],
   "source": [
    "import os\n",
    "os.environ[\"CUDA_VISIBLE_DEVICES\"]=\"0\"\n",
    "\n",
    "!./scripts/lorra_circuit_breaker_mistral_7b.sh"
   ]
  },
  {
   "cell_type": "code",
   "execution_count": null,
   "metadata": {},
   "outputs": [],
   "source": []
  }
 ],
 "metadata": {
  "kernelspec": {
   "display_name": "Python 3 (ipykernel)",
   "language": "python",
   "name": "python3"
  },
  "language_info": {
   "codemirror_mode": {
    "name": "ipython",
    "version": 3
   },
   "file_extension": ".py",
   "mimetype": "text/x-python",
   "name": "python",
   "nbconvert_exporter": "python",
   "pygments_lexer": "ipython3",
   "version": "3.10.9"
  }
 },
 "nbformat": 4,
 "nbformat_minor": 4
}
